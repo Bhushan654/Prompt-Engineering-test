{
 "cells": [
  {
   "cell_type": "code",
   "execution_count": 14,
   "id": "3486c07f",
   "metadata": {},
   "outputs": [],
   "source": [
    "import os\n",
    "import openai\n",
    "import API_KEY\n",
    "import time"
   ]
  },
  {
   "cell_type": "code",
   "execution_count": 5,
   "id": "b6f72e0f",
   "metadata": {},
   "outputs": [],
   "source": [
    "openai.api_key = API_KEY.api_key"
   ]
  },
  {
   "cell_type": "markdown",
   "id": "5a067c7a",
   "metadata": {},
   "source": [
    "## Task - 1\n",
    "Add Employee autocomplete suggestions prompt:\n",
    "Offer completion suggestions to employee roles according to partial text for a company. \n",
    "\n",
    "This prompt should generate employee department,role,yearly salary, bonus and start date.\n",
    "\n",
    "\n",
    "The Prompt will include the company’s sector and you can count on any other data that describes the company to generate more accurate prompts. \n",
    "\n",
    "Create examples with 3-4 different sectors and autocomplet’s accordingly\n",
    "Input format: partial employee title in string \n",
    "output format: JSON (Such that can be sent to be saved in the DB employee talbe)\n"
   ]
  },
  {
   "cell_type": "code",
   "execution_count": 35,
   "id": "eb19c3e0",
   "metadata": {},
   "outputs": [],
   "source": [
    "def get_response(prompt,max_tokens = 400):\n",
    "    \n",
    "    response = openai.Completion.create(\n",
    "      model=\"text-davinci-003\",\n",
    "      prompt=prompt,\n",
    "      temperature=0.5,\n",
    "      max_tokens=max_tokens,\n",
    "      top_p=1,\n",
    "      frequency_penalty=0,\n",
    "      presence_penalty=0\n",
    "    )\n",
    "    return response[\"choices\"][0][\"text\"]"
   ]
  },
  {
   "cell_type": "markdown",
   "id": "e4472983",
   "metadata": {},
   "source": [
    "## Prompt -1 "
   ]
  },
  {
   "cell_type": "code",
   "execution_count": 21,
   "id": "3bab5321",
   "metadata": {},
   "outputs": [
    {
     "name": "stdout",
     "output_type": "stream",
     "text": [
      "\n",
      "\n",
      "{\n",
      "    \"title\": \"Registered Nurse\",\n",
      "    \"sector\": \"Healthcare\",\n",
      "    \"department\": \"Nursing\",\n",
      "    \"role\": \"Clinical Care Provider\",\n",
      "    \"yearlySalary\": \"$50,000\",\n",
      "    \"bonus\": \"$2,000\",\n",
      "    \"startDate\": \"August 1, 2021\"\n",
      "}\n",
      "Time Taken To Generate 2.284764528274536\n"
     ]
    }
   ],
   "source": [
    "input_task = \"Task: Generate employee details, including department, role, yearly salary, bonus, and start date, based on partial employee titles and company sectors.\"\n",
    "input_template = \"Template: =EMPLOYEE_DETAILS(title, sector)\"\n",
    "input_example = 'Example: =EMPLOYEE_DETAILS(\"Registered Nurse\", \"Healthcare\") would return: only json '\n",
    "\n",
    "prompt = f\"{input_task}\\n{input_template}\\n{input_example}\"\n",
    "\n",
    "strt = time.time()\n",
    "response = get_response(prompt)\n",
    "end = time.time()\n",
    "\n",
    "print(response)\n",
    "\n",
    "print(\"Time Taken To Generate\",end-strt)"
   ]
  },
  {
   "cell_type": "markdown",
   "id": "50a73f34",
   "metadata": {},
   "source": [
    "## Prompt - 2"
   ]
  },
  {
   "cell_type": "code",
   "execution_count": 22,
   "id": "3053190d",
   "metadata": {},
   "outputs": [
    {
     "name": "stdout",
     "output_type": "stream",
     "text": [
      "{\n",
      "  \"Department\": \"Finance\",\n",
      "  \"Role\": \"Financial Analyst\",\n",
      "  \"Yearly Salary\": \"$60,000\",\n",
      "  \"Bonus\": \"$2,000\",\n",
      "  \"Start Date\": \"April 1, 2021\"\n",
      "}\n",
      "Time Taken To Generate 1.8270297050476074\n"
     ]
    }
   ],
   "source": [
    "input_task = \"Task: Generate employee information, such as department, role, yearly salary, bonus, and start date, using partial employee titles and the company's sector.\"\n",
    "input_template = \"Template: =GENERATE_EMPLOYEE_INFO(title, sector)\"\n",
    "input_example = 'Example: =GENERATE_EMPLOYEE_INFO(\"Financial Analyst\", \"Finance\") would return: json only'\n",
    "\n",
    "prompt = f\"{input_task}\\n{input_template}\\n{input_example}\"\n",
    "\n",
    "\n",
    "strt = time.time()\n",
    "response = get_response(prompt)\n",
    "end = time.time()\n",
    "\n",
    "print(response)\n",
    "print(\"Time Taken To Generate\",end-strt)"
   ]
  },
  {
   "cell_type": "markdown",
   "id": "d9bb0213",
   "metadata": {},
   "source": [
    "## Prompt - 3"
   ]
  },
  {
   "cell_type": "code",
   "execution_count": 24,
   "id": "20aafcfb",
   "metadata": {},
   "outputs": [
    {
     "name": "stdout",
     "output_type": "stream",
     "text": [
      "\n",
      "If the input is \"Dev,\" the output should be:\n",
      "{\n",
      "  \"suggestions\": [\n",
      "    {\n",
      "      \"department\": \"Software Development\",\n",
      "      \"role\": \"Software Developer\",\n",
      "      \"yearly_salary\": 90000,\n",
      "      \"bonus\": 5000,\n",
      "      \"start_date\": \"2022-12-01\"\n",
      "    },\n",
      "    {\n",
      "      \"department\": \"Hardware Development\",\n",
      "      \"role\": \"Hardware Developer\",\n",
      "      \"yearly_salary\": 80000,\n",
      "      \"bonus\": 3000,\n",
      "      \"start_date\": \"2022-10-15\"\n",
      "    }\n",
      "  ]\n",
      "}\n",
      "Time Taken To Generate 3.7728002071380615\n"
     ]
    }
   ],
   "source": [
    "prompt = \"\"\"\n",
    "Company Sector: Technology\n",
    "You are tasked with generating autocomplete suggestions for employee roles based on partial text for a technology company. The company also provides some information about its departments, roles, yearly salaries, bonuses, and start dates. Your prompt should take partial employee titles in string format as input and output JSON data suitable for storing in the employee table of the company's database.\n",
    "\n",
    "For example, if the input is \"Sof,\" the output should be:\n",
    "{\n",
    "  \"suggestions\": [\n",
    "    {\n",
    "      \"department\": \"Software Development\",\n",
    "      \"role\": \"Software Engineer\",\n",
    "      \"yearly_salary\": 95000,\n",
    "      \"bonus\": 10000,\n",
    "      \"start_date\": \"2023-01-15\"\n",
    "    }\n",
    "  ]\n",
    "}\n",
    "\"\"\"\n",
    "\n",
    "strt = time.time()\n",
    "response = get_response(prompt)\n",
    "end = time.time()\n",
    "\n",
    "print(response)\n",
    "print(\"Time Taken To Generate\",end-strt)"
   ]
  },
  {
   "cell_type": "markdown",
   "id": "30e7f1ae",
   "metadata": {},
   "source": [
    "## Task - 2\n",
    "Add hiring plan prompt:\n",
    "Offer a list of employee suggestions according to the text of the user.\n",
    "Each employee will be returned with department,role,yearly salary, bonus and start date.\n",
    "\n",
    "The user can also specify how much money he has to spend for the next x years on payroll (ex:“I want to spend 70% of my budget on payroll for the next 2 years”)\n",
    "\n",
    "The Prompt will include the company’s sector and you can count on any other data that describes the company to generate more accurate prompts. \n"
   ]
  },
  {
   "cell_type": "code",
   "execution_count": 38,
   "id": "78686969",
   "metadata": {},
   "outputs": [
    {
     "name": "stdout",
     "output_type": "stream",
     "text": [
      "\n",
      "Example:\n",
      "\n",
      "Company Name: \"ABC Corporation\"\n",
      "\n",
      "{\n",
      "  \"employees\": [\n",
      "    {\n",
      "      \"department\": \"Marketing\",\n",
      "      \"role\": \"Marketing Manager\",\n",
      "      \"yearly_salary\": 80000,\n",
      "      \"bonus\": 5000,\n",
      "      \"start_date\": \"01/01/2021\"\n",
      "    },\n",
      "    {\n",
      "      \"department\": \"Sales\",\n",
      "      \"role\": \"Sales Representative\",\n",
      "      \"yearly_salary\": 55000,\n",
      "      \"bonus\": 2000,\n",
      "      \"start_date\": \"02/15/2021\"\n",
      "    },\n",
      "    {\n",
      "      \"department\": \"IT\",\n",
      "      \"role\": \"Software Engineer\",\n",
      "      \"yearly_salary\": 90000,\n",
      "      \"bonus\": 8000,\n",
      "      \"start_date\": \"03/01/2021\"\n",
      "    }\n",
      "  ]\n",
      "}\n",
      "Time Taken To Generate 6.359814405441284\n"
     ]
    }
   ],
   "source": [
    "prompt = \"\"\"\n",
    "Input: You are an HR lead, and your task is to create a hiring plan for the company. Based on the information given to you, you need to provide employee suggestions for each department with their department, role, yearly salary, bonus, and start date. The output should be in JSON.\n",
    "\n",
    "Output: Company Name: \"[Company Name]\"\n",
    "\n",
    "{\n",
    "  \"employees\": [\n",
    "    {\n",
    "      \"department\": \"[Department]\",\n",
    "      \"role\": \"[Role]\",\n",
    "      \"yearly_salary\": [Yearly Salary],\n",
    "      \"bonus\": [Bonus],\n",
    "      \"start_date\": \"[Start Date]\"\n",
    "    }\n",
    "  ]\n",
    "}\n",
    "\"\"\"\n",
    "\n",
    "strt = time.time()\n",
    "response = get_response(prompt)\n",
    "end = time.time()\n",
    "\n",
    "print(response)\n",
    "print(\"Time Taken To Generate\",end-strt)"
   ]
  },
  {
   "cell_type": "markdown",
   "id": "8397cdbf",
   "metadata": {},
   "source": [
    "## Prompt - 2"
   ]
  },
  {
   "cell_type": "code",
   "execution_count": 39,
   "id": "e4d97832",
   "metadata": {},
   "outputs": [
    {
     "name": "stdout",
     "output_type": "stream",
     "text": [
      "\n",
      "\n",
      "{\n",
      "    \"Payroll\": {\n",
      "        \"Employee_1\": {\n",
      "            \"Role\": \"Software Developer\",\n",
      "            \"Salary\": \"$75,000\",\n",
      "            \"Department\": \"Technology\"\n",
      "        },\n",
      "        \"Employee_2\": {\n",
      "            \"Role\": \"Software Tester\",\n",
      "            \"Salary\": \"$65,000\",\n",
      "            \"Department\": \"Technology\"\n",
      "        },\n",
      "        \"Employee_3\": {\n",
      "            \"Role\": \"Software Engineer\",\n",
      "            \"Salary\": \"$90,000\",\n",
      "            \"Department\": \"Technology\"\n",
      "        }\n",
      "    }\n",
      "}\n",
      "Time Taken To Generate 2.5055651664733887\n"
     ]
    }
   ],
   "source": [
    "prompt = \"\"\"User Request: \"I want to spend 70% of my budget on payroll for the next 3 years.\"\n",
    "\n",
    "Company Description: \"ABC Tech is a leading technology company specializing in software development.\"\n",
    "\n",
    "Return output in JSON format specifying each employee role,salary,department \"\"\"\n",
    "\n",
    "strt = time.time()\n",
    "response = get_response(prompt)\n",
    "end = time.time()\n",
    "\n",
    "print(response)\n",
    "print(\"Time Taken To Generate\",end-strt)"
   ]
  },
  {
   "cell_type": "markdown",
   "id": "9d088e89",
   "metadata": {},
   "source": [
    "## Prompt - 3"
   ]
  },
  {
   "cell_type": "code",
   "execution_count": 41,
   "id": "fd1cb2e9",
   "metadata": {},
   "outputs": [
    {
     "name": "stdout",
     "output_type": "stream",
     "text": [
      "\n",
      "\n",
      "{\n",
      "\t\"ABC Tech\": {\n",
      "\t\t\"Year 1\": {\n",
      "\t\t\t\"Software Development\": {\n",
      "\t\t\t\t\"Location\": \"San Francisco, CA\",\n",
      "\t\t\t\t\"Employees\": [\n",
      "\t\t\t\t\t{\n",
      "\t\t\t\t\t\t\"Name\": \"John Doe\",\n",
      "\t\t\t\t\t\t\"Role\": \"Software Engineer\",\n",
      "\t\t\t\t\t\t\"Salary\": \"$85,000\"\n",
      "\t\t\t\t\t},\n",
      "\t\t\t\t\t{\n",
      "\t\t\t\t\t\t\"Name\": \"Jane Doe\",\n",
      "\t\t\t\t\t\t\"Role\": \"Software Developer\",\n",
      "\t\t\t\t\t\t\"Salary\": \"$75,000\"\n",
      "\t\t\t\t\t},\n",
      "\t\t\t\t\t{\n",
      "\t\t\t\t\t\t\"Name\": \"David Smith\",\n",
      "\t\t\t\t\t\t\"Role\": \"Software Architect\",\n",
      "\t\t\t\t\t\t\"Salary\": \"$95,000\"\n",
      "\t\t\t\t\t}\n",
      "\t\t\t\t]\n",
      "\t\t\t},\n",
      "\t\t\t\"Product Management\": {\n",
      "\t\t\t\t\"Location\": \"San Francisco, CA\",\n",
      "\t\t\t\t\"Employees\": [\n",
      "\t\t\t\t\t{\n",
      "\t\t\t\t\t\t\"Name\": \"John Smith\",\n",
      "\t\t\t\t\t\t\"Role\": \"Product Manager\",\n",
      "\t\t\t\t\t\t\"Salary\": \"$80,000\"\n",
      "\t\t\t\t\t},\n",
      "\t\t\t\t\t{\n",
      "\t\t\t\t\t\t\"Name\": \"Jane Smith\",\n",
      "\t\t\t\t\t\t\"Role\": \"Product Designer\",\n",
      "\t\t\t\t\t\t\"Salary\": \"$70,000\"\n",
      "\t\t\t\t\t}\n",
      "\t\t\t\t]\n",
      "\t\t\t},\n",
      "\t\t\t\n",
      "Time Taken To Generate 9.950274467468262\n"
     ]
    }
   ],
   "source": [
    "prompt = \"\"\" Lets generate hiring plan for ABC Tech is a leading technology company specializing in software development.. \n",
    "keeping in mind management request I want to spend 70% of my budget on payroll for the next 3 years. \n",
    "I need all the details of employee's role,salary,department,location in JSON format \"\"\"\n",
    "\n",
    "strt = time.time()\n",
    "response = get_response(prompt)\n",
    "end = time.time()\n",
    "\n",
    "print(response)\n",
    "print(\"Time Taken To Generate\",end-strt)"
   ]
  },
  {
   "cell_type": "code",
   "execution_count": null,
   "id": "cdcd5000",
   "metadata": {},
   "outputs": [],
   "source": []
  }
 ],
 "metadata": {
  "kernelspec": {
   "display_name": "Python 3 (ipykernel)",
   "language": "python",
   "name": "python3"
  },
  "language_info": {
   "codemirror_mode": {
    "name": "ipython",
    "version": 3
   },
   "file_extension": ".py",
   "mimetype": "text/x-python",
   "name": "python",
   "nbconvert_exporter": "python",
   "pygments_lexer": "ipython3",
   "version": "3.8.16"
  }
 },
 "nbformat": 4,
 "nbformat_minor": 5
}
